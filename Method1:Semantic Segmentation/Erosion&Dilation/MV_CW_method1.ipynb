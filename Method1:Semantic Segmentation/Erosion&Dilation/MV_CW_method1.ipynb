{
 "cells": [
  {
   "cell_type": "markdown",
   "metadata": {},
   "source": [
    "# Apple Counting using Semantic Segmentation\n",
    "\n",
    "This note provide a method using Morphological operation and centroids counting for MinneApple assessment.  \n"
   ]
  },
  {
   "cell_type": "markdown",
   "metadata": {},
   "source": [
    "**Set the necessary packges before start.**"
   ]
  },
  {
   "cell_type": "code",
   "execution_count": null,
   "metadata": {},
   "outputs": [],
   "source": [
    "import numpy as np\n",
    "import matplotlib.pyplot as plt\n",
    "import matplotlib.image as mpimg\n",
    "import cv2\n",
    "from scipy import ndimage \n",
    "from skimage.color import rgb2hsv\n"
   ]
  },
  {
   "cell_type": "markdown",
   "metadata": {},
   "source": [
    "1. Read MinneApple image \n",
    "2. Convert it to greyscale\n",
    "3. Histrogram equalisation"
   ]
  },
  {
   "cell_type": "code",
   "execution_count": null,
   "metadata": {},
   "outputs": [],
   "source": [
    "img = cv2.imread('/')\n",
    "hsv_img = rgb2hsv(img)\n",
    "colour = img.copy()\n",
    "\n",
    "img = cv2.cvtColor(img,cv2.COLOR_BGR2GRAY)\n",
    "\n",
    "img = cv2.imread('/',0)\n",
    "\n",
    "equ = cv2.equalizeHist(img)\n",
    "\n",
    "plt.figure()\n",
    "plt.hist(img.ravel(),256[0,256]);\n",
    "plt.hist(equ.ravel(),256[0,256]);\n",
    "plt.title(\"histogram equ\")\n",
    "\n",
    "plt.figure(figsize(18,8))\n",
    "plt.subplot(1,3,1)\n",
    "plt.imshow(colour[:,:,::-1])\n",
    "plt.title(\"color\")\n",
    "plt.subplot(1,3,2)\n",
    "plt.imshow(img,cmap=\"gray\")\n",
    "plt.title(\"greyscale\")\n",
    "plt.subplot(1,3,3)\n",
    "plt.imshow(equ.camp=\"gray\")\n",
    "plt.title(\"hist equalised\")"
   ]
  },
  {
   "cell_type": "markdown",
   "metadata": {},
   "source": [
    "**Apply Adaptive Thresholding**"
   ]
  },
  {
   "cell_type": "code",
   "execution_count": null,
   "metadata": {},
   "outputs": [],
   "source": [
    "bw = cv2.adaptiveThreshold(img,255,cv2.ADAPTIVE_THRESH_GAUSSIAN_C,cv2.THRESH_BINARY,301,3)\n",
    "bw = np.invert(bw)\n",
    "\n",
    "plt.figure(figuresize(18.8))\n",
    "plt.imshow(bw,cmap=\"gray\")\n",
    "plot.title(\"adaptive thresh\")\n",
    "\n",
    "plot.show()\n"
   ]
  },
  {
   "cell_type": "markdown",
   "metadata": {},
   "source": [
    "**Morphological operation for separating stawberries**"
   ]
  },
  {
   "cell_type": "code",
   "execution_count": null,
   "metadata": {},
   "outputs": [],
   "source": [
    "kernel = np.ones((3,3),np.uint8)\n",
    "\n",
    "closing = cv2.morphologyEx(bw,cv2.MORPH_CLOSE,kernel,iteration=)\n",
    "\n",
    "kernel = cv2.getStructuringElement(cv2.MORPH_CROSS,(3,3))\n",
    "erosion = cv2.erode(closing.kernel,iteration = 3)\n",
    "\n",
    "kernel - np.ones((3,3),np.unit8)\n",
    "closing = cv2.morphologyEx(bw,cv2.MORPH_CLOSE,kernel,iteration=)\n",
    "\n",
    "kernel = cv2.getStructuringElement(cv2.MORPH_CROSS,(6,6))\n",
    "erosion2 = cv2.erode(closing.kernel,iteration = )\n",
    "\n",
    "erosion2[;5,:] = 0\n",
    "erosion2[:,:5] = 0\n",
    "erosion2[-5:,:] = 0\n",
    "erosion2[:,-5:] = 0\n",
    "\n",
    "plt.figure(figsize =(16,12))\n",
    "plt.subpLot(2,2,1)\n",
    "plt.imshow(bw,cmap=\"gray\")\n",
    "plt.title(\"original\")\n",
    "plt.subplot(2,2,2)\n",
    "plt.imshow(closing,cmap=\"gray\")\n",
    "plt.title(\"closing\")\n",
    "plt.subplot(2,2,3)\n",
    "plt.imshoww(erosion,cmap=\"gray\")\n",
    "plt.title(\"erosion\")\n",
    "plt.subplot(2,2,4)\n",
    "plt.imshow(erosion,cmap=\"gray\")\n",
    "plt.title(\"close &erosion2\")"
   ]
  },
  {
   "cell_type": "markdown",
   "metadata": {},
   "source": [
    "**Find the centroids of isolated apples"
   ]
  },
  {
   "cell_type": "code",
   "execution_count": null,
   "metadata": {},
   "outputs": [],
   "source": [
    "display = colour.copy()\n",
    "labels,nlabels = ndimage.label(erosion2)\n",
    "\n",
    "print(\"There are\"+str(nlabels)\"apples\")\n",
    "\n",
    "centroid = ndimage.center_of_Massive (erosion2,labels,np,arange(nlabels)+1)\n",
    "\n",
    "for cen in centroid:\n",
    "    display = cv2.circle(display,(cen[1].astype(int),cen[0].astype(int)),radius=10,color=(255,255,255),thickness=-1)\n",
    "    \n",
    "plt.figure()\n",
    "plt.imshow(display[:,:,::-1])"
   ]
  }
 ],
 "metadata": {
  "kernelspec": {
   "display_name": "Python 3",
   "language": "python",
   "name": "python3"
  },
  "language_info": {
   "codemirror_mode": {
    "name": "ipython",
    "version": 3
   },
   "file_extension": ".py",
   "mimetype": "text/x-python",
   "name": "python",
   "nbconvert_exporter": "python",
   "pygments_lexer": "ipython3",
   "version": "3.8.5"
  }
 },
 "nbformat": 4,
 "nbformat_minor": 4
}
